{
 "cells": [
  {
   "cell_type": "code",
   "execution_count": 1,
   "metadata": {
    "collapsed": false,
    "deletable": true,
    "editable": true
   },
   "outputs": [
    {
     "name": "stderr",
     "output_type": "stream",
     "text": [
      "Using TensorFlow backend.\n"
     ]
    }
   ],
   "source": [
    "import numpy as np\n",
    "import tensorflow as tf\n",
    "import random\n",
    "import csv\n",
    "import cv2\n",
    "import numpy as np\n",
    "from keras.models import Sequential\n",
    "from keras.layers import Flatten, Dense,Lambda, Cropping2D,Dropout,Activation\n",
    "from keras.layers.convolutional import Convolution2D,UpSampling2D\n",
    "from keras.layers.pooling import MaxPooling2D\n",
    "import matplotlib.pyplot as plt\n",
    "from sklearn.model_selection import train_test_split\n",
    "from sklearn.utils import shuffle\n",
    "import sklearn\n",
    "# Visualizations will be shown in the notebook.\n",
    "%matplotlib inline\n",
    "\n"
   ]
  },
  {
   "cell_type": "code",
   "execution_count": 2,
   "metadata": {
    "collapsed": false,
    "deletable": true,
    "editable": true
   },
   "outputs": [],
   "source": [
    "import glob\n",
    "X_train = []\n",
    "y_train = []\n",
    "car_images = glob.glob('vehicles/*/*/*.png')\n",
    "noncar_images = glob.glob('non-vehicles/*/*/*.png')\n",
    "for imgname in car_images:\n",
    "    img = cv2.imread(imgname)\n",
    "    #img = cv2.cvtColor(img, cv2.COLOR_BGR2GRAY)\n",
    "    X_train.append(img)\n",
    "    y_train.append(np.ones_like(img))\n",
    "for imgname in noncar_images:\n",
    "    img = cv2.imread(imgname)\n",
    "    #img = cv2.cvtColor(img, cv2.COLOR_BGR2GRAY)\n",
    "    X_train.append(img)\n",
    "    y_train.append(np.ones_like(img))\n",
    "X_train = np.array(X_train)\n",
    "y_train = np.array(y_train)\n"
   ]
  },
  {
   "cell_type": "code",
   "execution_count": 3,
   "metadata": {
    "collapsed": false,
    "deletable": true,
    "editable": true
   },
   "outputs": [
    {
     "name": "stdout",
     "output_type": "stream",
     "text": [
      "(17760, 64, 64, 3)\n",
      "(17760, 64, 64, 3)\n"
     ]
    },
    {
     "ename": "ValueError",
     "evalue": "Unknown label type: (array([[[[1, 1, 1],\n         [1, 1, 1],\n         [1, 1, 1],\n         ..., \n         [1, 1, 1],\n         [1, 1, 1],\n         [1, 1, 1]],\n\n        [[1, 1, 1],\n         [1, 1, 1],\n         [1, 1, 1],\n         ..., \n         [1, 1, 1],\n         [1, 1, 1],\n         [1, 1, 1]],\n\n        [[1, 1, 1],\n         [1, 1, 1],\n         [1, 1, 1],\n         ..., \n         [1, 1, 1],\n         [1, 1, 1],\n         [1, 1, 1]],\n\n        ..., \n        [[1, 1, 1],\n         [1, 1, 1],\n         [1, 1, 1],\n         ..., \n         [1, 1, 1],\n         [1, 1, 1],\n         [1, 1, 1]],\n\n        [[1, 1, 1],\n         [1, 1, 1],\n         [1, 1, 1],\n         ..., \n         [1, 1, 1],\n         [1, 1, 1],\n         [1, 1, 1]],\n\n        [[1, 1, 1],\n         [1, 1, 1],\n         [1, 1, 1],\n         ..., \n         [1, 1, 1],\n         [1, 1, 1],\n         [1, 1, 1]]],\n\n\n       [[[1, 1, 1],\n         [1, 1, 1],\n         [1, 1, 1],\n         ..., \n         [1, 1, 1],\n         [1, 1, 1],\n         [1, 1, 1]],\n\n        [[1, 1, 1],\n         [1, 1, 1],\n         [1, 1, 1],\n         ..., \n         [1, 1, 1],\n         [1, 1, 1],\n         [1, 1, 1]],\n\n        [[1, 1, 1],\n         [1, 1, 1],\n         [1, 1, 1],\n         ..., \n         [1, 1, 1],\n         [1, 1, 1],\n         [1, 1, 1]],\n\n        ..., \n        [[1, 1, 1],\n         [1, 1, 1],\n         [1, 1, 1],\n         ..., \n         [1, 1, 1],\n         [1, 1, 1],\n         [1, 1, 1]],\n\n        [[1, 1, 1],\n         [1, 1, 1],\n         [1, 1, 1],\n         ..., \n         [1, 1, 1],\n         [1, 1, 1],\n         [1, 1, 1]],\n\n        [[1, 1, 1],\n         [1, 1, 1],\n         [1, 1, 1],\n         ..., \n         [1, 1, 1],\n         [1, 1, 1],\n         [1, 1, 1]]],\n\n\n       [[[1, 1, 1],\n         [1, 1, 1],\n         [1, 1, 1],\n         ..., \n         [1, 1, 1],\n         [1, 1, 1],\n         [1, 1, 1]],\n\n        [[1, 1, 1],\n         [1, 1, 1],\n         [1, 1, 1],\n         ..., \n         [1, 1, 1],\n         [1, 1, 1],\n         [1, 1, 1]],\n\n        [[1, 1, 1],\n         [1, 1, 1],\n         [1, 1, 1],\n         ..., \n         [1, 1, 1],\n         [1, 1, 1],\n         [1, 1, 1]],\n\n        ..., \n        [[1, 1, 1],\n         [1, 1, 1],\n         [1, 1, 1],\n         ..., \n         [1, 1, 1],\n         [1, 1, 1],\n         [1, 1, 1]],\n\n        [[1, 1, 1],\n         [1, 1, 1],\n         [1, 1, 1],\n         ..., \n         [1, 1, 1],\n         [1, 1, 1],\n         [1, 1, 1]],\n\n        [[1, 1, 1],\n         [1, 1, 1],\n         [1, 1, 1],\n         ..., \n         [1, 1, 1],\n         [1, 1, 1],\n         [1, 1, 1]]],\n\n\n       ..., \n       [[[1, 1, 1],\n         [1, 1, 1],\n         [1, 1, 1],\n         ..., \n         [1, 1, 1],\n         [1, 1, 1],\n         [1, 1, 1]],\n\n        [[1, 1, 1],\n         [1, 1, 1],\n         [1, 1, 1],\n         ..., \n         [1, 1, 1],\n         [1, 1, 1],\n         [1, 1, 1]],\n\n        [[1, 1, 1],\n         [1, 1, 1],\n         [1, 1, 1],\n         ..., \n         [1, 1, 1],\n         [1, 1, 1],\n         [1, 1, 1]],\n\n        ..., \n        [[1, 1, 1],\n         [1, 1, 1],\n         [1, 1, 1],\n         ..., \n         [1, 1, 1],\n         [1, 1, 1],\n         [1, 1, 1]],\n\n        [[1, 1, 1],\n         [1, 1, 1],\n         [1, 1, 1],\n         ..., \n         [1, 1, 1],\n         [1, 1, 1],\n         [1, 1, 1]],\n\n        [[1, 1, 1],\n         [1, 1, 1],\n         [1, 1, 1],\n         ..., \n         [1, 1, 1],\n         [1, 1, 1],\n         [1, 1, 1]]],\n\n\n       [[[1, 1, 1],\n         [1, 1, 1],\n         [1, 1, 1],\n         ..., \n         [1, 1, 1],\n         [1, 1, 1],\n         [1, 1, 1]],\n\n        [[1, 1, 1],\n         [1, 1, 1],\n         [1, 1, 1],\n         ..., \n         [1, 1, 1],\n         [1, 1, 1],\n         [1, 1, 1]],\n\n        [[1, 1, 1],\n         [1, 1, 1],\n         [1, 1, 1],\n         ..., \n         [1, 1, 1],\n         [1, 1, 1],\n         [1, 1, 1]],\n\n        ..., \n        [[1, 1, 1],\n         [1, 1, 1],\n         [1, 1, 1],\n         ..., \n         [1, 1, 1],\n         [1, 1, 1],\n         [1, 1, 1]],\n\n        [[1, 1, 1],\n         [1, 1, 1],\n         [1, 1, 1],\n         ..., \n         [1, 1, 1],\n         [1, 1, 1],\n         [1, 1, 1]],\n\n        [[1, 1, 1],\n         [1, 1, 1],\n         [1, 1, 1],\n         ..., \n         [1, 1, 1],\n         [1, 1, 1],\n         [1, 1, 1]]],\n\n\n       [[[1, 1, 1],\n         [1, 1, 1],\n         [1, 1, 1],\n         ..., \n         [1, 1, 1],\n         [1, 1, 1],\n         [1, 1, 1]],\n\n        [[1, 1, 1],\n         [1, 1, 1],\n         [1, 1, 1],\n         ..., \n         [1, 1, 1],\n         [1, 1, 1],\n         [1, 1, 1]],\n\n        [[1, 1, 1],\n         [1, 1, 1],\n         [1, 1, 1],\n         ..., \n         [1, 1, 1],\n         [1, 1, 1],\n         [1, 1, 1]],\n\n        ..., \n        [[1, 1, 1],\n         [1, 1, 1],\n         [1, 1, 1],\n         ..., \n         [1, 1, 1],\n         [1, 1, 1],\n         [1, 1, 1]],\n\n        [[1, 1, 1],\n         [1, 1, 1],\n         [1, 1, 1],\n         ..., \n         [1, 1, 1],\n         [1, 1, 1],\n         [1, 1, 1]],\n\n        [[1, 1, 1],\n         [1, 1, 1],\n         [1, 1, 1],\n         ..., \n         [1, 1, 1],\n         [1, 1, 1],\n         [1, 1, 1]]]], dtype=uint8),)",
     "output_type": "error",
     "traceback": [
      "\u001b[1;31m---------------------------------------------------------------------------\u001b[0m",
      "\u001b[1;31mValueError\u001b[0m                                Traceback (most recent call last)",
      "\u001b[1;32m<ipython-input-3-f49be33a973c>\u001b[0m in \u001b[0;36m<module>\u001b[1;34m()\u001b[0m\n\u001b[0;32m     34\u001b[0m \u001b[1;32mfrom\u001b[0m \u001b[0msklearn\u001b[0m\u001b[1;33m.\u001b[0m\u001b[0mpreprocessing\u001b[0m \u001b[1;32mimport\u001b[0m \u001b[0mLabelBinarizer\u001b[0m\u001b[1;33m\u001b[0m\u001b[0m\n\u001b[0;32m     35\u001b[0m \u001b[0mlabel_binarizer\u001b[0m \u001b[1;33m=\u001b[0m \u001b[0mLabelBinarizer\u001b[0m\u001b[1;33m(\u001b[0m\u001b[1;33m)\u001b[0m\u001b[1;33m\u001b[0m\u001b[0m\n\u001b[1;32m---> 36\u001b[1;33m \u001b[0my_one_hot\u001b[0m \u001b[1;33m=\u001b[0m \u001b[0mlabel_binarizer\u001b[0m\u001b[1;33m.\u001b[0m\u001b[0mfit_transform\u001b[0m\u001b[1;33m(\u001b[0m\u001b[0my_train\u001b[0m\u001b[1;33m)\u001b[0m\u001b[1;33m\u001b[0m\u001b[0m\n\u001b[0m\u001b[0;32m     37\u001b[0m \u001b[0mprint\u001b[0m\u001b[1;33m(\u001b[0m\u001b[0my_one_hot\u001b[0m\u001b[1;33m.\u001b[0m\u001b[0mshape\u001b[0m\u001b[1;33m)\u001b[0m\u001b[1;33m\u001b[0m\u001b[0m\n\u001b[0;32m     38\u001b[0m \u001b[0mmodel\u001b[0m\u001b[1;33m.\u001b[0m\u001b[0mcompile\u001b[0m\u001b[1;33m(\u001b[0m\u001b[1;34m'adam'\u001b[0m\u001b[1;33m,\u001b[0m \u001b[1;34m'categorical_crossentropy'\u001b[0m\u001b[1;33m,\u001b[0m \u001b[1;33m[\u001b[0m\u001b[1;34m'accuracy'\u001b[0m\u001b[1;33m]\u001b[0m\u001b[1;33m)\u001b[0m\u001b[1;33m\u001b[0m\u001b[0m\n",
      "\u001b[1;32mC:\\Users\\Hengyang\\AppData\\Local\\conda\\conda\\envs\\carnd-term1\\lib\\site-packages\\sklearn\\base.py\u001b[0m in \u001b[0;36mfit_transform\u001b[1;34m(self, X, y, **fit_params)\u001b[0m\n\u001b[0;32m    492\u001b[0m         \u001b[1;32mif\u001b[0m \u001b[0my\u001b[0m \u001b[1;32mis\u001b[0m \u001b[1;32mNone\u001b[0m\u001b[1;33m:\u001b[0m\u001b[1;33m\u001b[0m\u001b[0m\n\u001b[0;32m    493\u001b[0m             \u001b[1;31m# fit method of arity 1 (unsupervised transformation)\u001b[0m\u001b[1;33m\u001b[0m\u001b[1;33m\u001b[0m\u001b[0m\n\u001b[1;32m--> 494\u001b[1;33m             \u001b[1;32mreturn\u001b[0m \u001b[0mself\u001b[0m\u001b[1;33m.\u001b[0m\u001b[0mfit\u001b[0m\u001b[1;33m(\u001b[0m\u001b[0mX\u001b[0m\u001b[1;33m,\u001b[0m \u001b[1;33m**\u001b[0m\u001b[0mfit_params\u001b[0m\u001b[1;33m)\u001b[0m\u001b[1;33m.\u001b[0m\u001b[0mtransform\u001b[0m\u001b[1;33m(\u001b[0m\u001b[0mX\u001b[0m\u001b[1;33m)\u001b[0m\u001b[1;33m\u001b[0m\u001b[0m\n\u001b[0m\u001b[0;32m    495\u001b[0m         \u001b[1;32melse\u001b[0m\u001b[1;33m:\u001b[0m\u001b[1;33m\u001b[0m\u001b[0m\n\u001b[0;32m    496\u001b[0m             \u001b[1;31m# fit method of arity 2 (supervised transformation)\u001b[0m\u001b[1;33m\u001b[0m\u001b[1;33m\u001b[0m\u001b[0m\n",
      "\u001b[1;32mC:\\Users\\Hengyang\\AppData\\Local\\conda\\conda\\envs\\carnd-term1\\lib\\site-packages\\sklearn\\preprocessing\\label.py\u001b[0m in \u001b[0;36mfit\u001b[1;34m(self, y)\u001b[0m\n\u001b[0;32m    302\u001b[0m \u001b[1;33m\u001b[0m\u001b[0m\n\u001b[0;32m    303\u001b[0m         \u001b[0mself\u001b[0m\u001b[1;33m.\u001b[0m\u001b[0msparse_input_\u001b[0m \u001b[1;33m=\u001b[0m \u001b[0msp\u001b[0m\u001b[1;33m.\u001b[0m\u001b[0missparse\u001b[0m\u001b[1;33m(\u001b[0m\u001b[0my\u001b[0m\u001b[1;33m)\u001b[0m\u001b[1;33m\u001b[0m\u001b[0m\n\u001b[1;32m--> 304\u001b[1;33m         \u001b[0mself\u001b[0m\u001b[1;33m.\u001b[0m\u001b[0mclasses_\u001b[0m \u001b[1;33m=\u001b[0m \u001b[0munique_labels\u001b[0m\u001b[1;33m(\u001b[0m\u001b[0my\u001b[0m\u001b[1;33m)\u001b[0m\u001b[1;33m\u001b[0m\u001b[0m\n\u001b[0m\u001b[0;32m    305\u001b[0m         \u001b[1;32mreturn\u001b[0m \u001b[0mself\u001b[0m\u001b[1;33m\u001b[0m\u001b[0m\n\u001b[0;32m    306\u001b[0m \u001b[1;33m\u001b[0m\u001b[0m\n",
      "\u001b[1;32mC:\\Users\\Hengyang\\AppData\\Local\\conda\\conda\\envs\\carnd-term1\\lib\\site-packages\\sklearn\\utils\\multiclass.py\u001b[0m in \u001b[0;36munique_labels\u001b[1;34m(*ys)\u001b[0m\n\u001b[0;32m     96\u001b[0m     \u001b[0m_unique_labels\u001b[0m \u001b[1;33m=\u001b[0m \u001b[0m_FN_UNIQUE_LABELS\u001b[0m\u001b[1;33m.\u001b[0m\u001b[0mget\u001b[0m\u001b[1;33m(\u001b[0m\u001b[0mlabel_type\u001b[0m\u001b[1;33m,\u001b[0m \u001b[1;32mNone\u001b[0m\u001b[1;33m)\u001b[0m\u001b[1;33m\u001b[0m\u001b[0m\n\u001b[0;32m     97\u001b[0m     \u001b[1;32mif\u001b[0m \u001b[1;32mnot\u001b[0m \u001b[0m_unique_labels\u001b[0m\u001b[1;33m:\u001b[0m\u001b[1;33m\u001b[0m\u001b[0m\n\u001b[1;32m---> 98\u001b[1;33m         \u001b[1;32mraise\u001b[0m \u001b[0mValueError\u001b[0m\u001b[1;33m(\u001b[0m\u001b[1;34m\"Unknown label type: %s\"\u001b[0m \u001b[1;33m%\u001b[0m \u001b[0mrepr\u001b[0m\u001b[1;33m(\u001b[0m\u001b[0mys\u001b[0m\u001b[1;33m)\u001b[0m\u001b[1;33m)\u001b[0m\u001b[1;33m\u001b[0m\u001b[0m\n\u001b[0m\u001b[0;32m     99\u001b[0m \u001b[1;33m\u001b[0m\u001b[0m\n\u001b[0;32m    100\u001b[0m     \u001b[0mys_labels\u001b[0m \u001b[1;33m=\u001b[0m \u001b[0mset\u001b[0m\u001b[1;33m(\u001b[0m\u001b[0mchain\u001b[0m\u001b[1;33m.\u001b[0m\u001b[0mfrom_iterable\u001b[0m\u001b[1;33m(\u001b[0m\u001b[0m_unique_labels\u001b[0m\u001b[1;33m(\u001b[0m\u001b[0my\u001b[0m\u001b[1;33m)\u001b[0m \u001b[1;32mfor\u001b[0m \u001b[0my\u001b[0m \u001b[1;32min\u001b[0m \u001b[0mys\u001b[0m\u001b[1;33m)\u001b[0m\u001b[1;33m)\u001b[0m\u001b[1;33m\u001b[0m\u001b[0m\n",
      "\u001b[1;31mValueError\u001b[0m: Unknown label type: (array([[[[1, 1, 1],\n         [1, 1, 1],\n         [1, 1, 1],\n         ..., \n         [1, 1, 1],\n         [1, 1, 1],\n         [1, 1, 1]],\n\n        [[1, 1, 1],\n         [1, 1, 1],\n         [1, 1, 1],\n         ..., \n         [1, 1, 1],\n         [1, 1, 1],\n         [1, 1, 1]],\n\n        [[1, 1, 1],\n         [1, 1, 1],\n         [1, 1, 1],\n         ..., \n         [1, 1, 1],\n         [1, 1, 1],\n         [1, 1, 1]],\n\n        ..., \n        [[1, 1, 1],\n         [1, 1, 1],\n         [1, 1, 1],\n         ..., \n         [1, 1, 1],\n         [1, 1, 1],\n         [1, 1, 1]],\n\n        [[1, 1, 1],\n         [1, 1, 1],\n         [1, 1, 1],\n         ..., \n         [1, 1, 1],\n         [1, 1, 1],\n         [1, 1, 1]],\n\n        [[1, 1, 1],\n         [1, 1, 1],\n         [1, 1, 1],\n         ..., \n         [1, 1, 1],\n         [1, 1, 1],\n         [1, 1, 1]]],\n\n\n       [[[1, 1, 1],\n         [1, 1, 1],\n         [1, 1, 1],\n         ..., \n         [1, 1, 1],\n         [1, 1, 1],\n         [1, 1, 1]],\n\n        [[1, 1, 1],\n         [1, 1, 1],\n         [1, 1, 1],\n         ..., \n         [1, 1, 1],\n         [1, 1, 1],\n         [1, 1, 1]],\n\n        [[1, 1, 1],\n         [1, 1, 1],\n         [1, 1, 1],\n         ..., \n         [1, 1, 1],\n         [1, 1, 1],\n         [1, 1, 1]],\n\n        ..., \n        [[1, 1, 1],\n         [1, 1, 1],\n         [1, 1, 1],\n         ..., \n         [1, 1, 1],\n         [1, 1, 1],\n         [1, 1, 1]],\n\n        [[1, 1, 1],\n         [1, 1, 1],\n         [1, 1, 1],\n         ..., \n         [1, 1, 1],\n         [1, 1, 1],\n         [1, 1, 1]],\n\n        [[1, 1, 1],\n         [1, 1, 1],\n         [1, 1, 1],\n         ..., \n         [1, 1, 1],\n         [1, 1, 1],\n         [1, 1, 1]]],\n\n\n       [[[1, 1, 1],\n         [1, 1, 1],\n         [1, 1, 1],\n         ..., \n         [1, 1, 1],\n         [1, 1, 1],\n         [1, 1, 1]],\n\n        [[1, 1, 1],\n         [1, 1, 1],\n         [1, 1, 1],\n         ..., \n         [1, 1, 1],\n         [1, 1, 1],\n         [1, 1, 1]],\n\n        [[1, 1, 1],\n         [1, 1, 1],\n         [1, 1, 1],\n         ..., \n         [1, 1, 1],\n         [1, 1, 1],\n         [1, 1, 1]],\n\n        ..., \n        [[1, 1, 1],\n         [1, 1, 1],\n         [1, 1, 1],\n         ..., \n         [1, 1, 1],\n         [1, 1, 1],\n         [1, 1, 1]],\n\n        [[1, 1, 1],\n         [1, 1, 1],\n         [1, 1, 1],\n         ..., \n         [1, 1, 1],\n         [1, 1, 1],\n         [1, 1, 1]],\n\n        [[1, 1, 1],\n         [1, 1, 1],\n         [1, 1, 1],\n         ..., \n         [1, 1, 1],\n         [1, 1, 1],\n         [1, 1, 1]]],\n\n\n       ..., \n       [[[1, 1, 1],\n         [1, 1, 1],\n         [1, 1, 1],\n         ..., \n         [1, 1, 1],\n         [1, 1, 1],\n         [1, 1, 1]],\n\n        [[1, 1, 1],\n         [1, 1, 1],\n         [1, 1, 1],\n         ..., \n         [1, 1, 1],\n         [1, 1, 1],\n         [1, 1, 1]],\n\n        [[1, 1, 1],\n         [1, 1, 1],\n         [1, 1, 1],\n         ..., \n         [1, 1, 1],\n         [1, 1, 1],\n         [1, 1, 1]],\n\n        ..., \n        [[1, 1, 1],\n         [1, 1, 1],\n         [1, 1, 1],\n         ..., \n         [1, 1, 1],\n         [1, 1, 1],\n         [1, 1, 1]],\n\n        [[1, 1, 1],\n         [1, 1, 1],\n         [1, 1, 1],\n         ..., \n         [1, 1, 1],\n         [1, 1, 1],\n         [1, 1, 1]],\n\n        [[1, 1, 1],\n         [1, 1, 1],\n         [1, 1, 1],\n         ..., \n         [1, 1, 1],\n         [1, 1, 1],\n         [1, 1, 1]]],\n\n\n       [[[1, 1, 1],\n         [1, 1, 1],\n         [1, 1, 1],\n         ..., \n         [1, 1, 1],\n         [1, 1, 1],\n         [1, 1, 1]],\n\n        [[1, 1, 1],\n         [1, 1, 1],\n         [1, 1, 1],\n         ..., \n         [1, 1, 1],\n         [1, 1, 1],\n         [1, 1, 1]],\n\n        [[1, 1, 1],\n         [1, 1, 1],\n         [1, 1, 1],\n         ..., \n         [1, 1, 1],\n         [1, 1, 1],\n         [1, 1, 1]],\n\n        ..., \n        [[1, 1, 1],\n         [1, 1, 1],\n         [1, 1, 1],\n         ..., \n         [1, 1, 1],\n         [1, 1, 1],\n         [1, 1, 1]],\n\n        [[1, 1, 1],\n         [1, 1, 1],\n         [1, 1, 1],\n         ..., \n         [1, 1, 1],\n         [1, 1, 1],\n         [1, 1, 1]],\n\n        [[1, 1, 1],\n         [1, 1, 1],\n         [1, 1, 1],\n         ..., \n         [1, 1, 1],\n         [1, 1, 1],\n         [1, 1, 1]]],\n\n\n       [[[1, 1, 1],\n         [1, 1, 1],\n         [1, 1, 1],\n         ..., \n         [1, 1, 1],\n         [1, 1, 1],\n         [1, 1, 1]],\n\n        [[1, 1, 1],\n         [1, 1, 1],\n         [1, 1, 1],\n         ..., \n         [1, 1, 1],\n         [1, 1, 1],\n         [1, 1, 1]],\n\n        [[1, 1, 1],\n         [1, 1, 1],\n         [1, 1, 1],\n         ..., \n         [1, 1, 1],\n         [1, 1, 1],\n         [1, 1, 1]],\n\n        ..., \n        [[1, 1, 1],\n         [1, 1, 1],\n         [1, 1, 1],\n         ..., \n         [1, 1, 1],\n         [1, 1, 1],\n         [1, 1, 1]],\n\n        [[1, 1, 1],\n         [1, 1, 1],\n         [1, 1, 1],\n         ..., \n         [1, 1, 1],\n         [1, 1, 1],\n         [1, 1, 1]],\n\n        [[1, 1, 1],\n         [1, 1, 1],\n         [1, 1, 1],\n         ..., \n         [1, 1, 1],\n         [1, 1, 1],\n         [1, 1, 1]]]], dtype=uint8),)"
     ]
    }
   ],
   "source": [
    "print(X_train.shape)\n",
    "print(y_train.shape)\n",
    "model = Sequential()\n",
    "# Preprocess incoming data, centered around zero with small standard deviation \n",
    "#model.add(Lambda(lambda x:((x/255.0)-0.5),input_shape = (64,64,1)))\n",
    "#model.add(Cropping2D(cropping=((70,25), (0,0))))\n",
    "\n",
    "model.add(Convolution2D(6,3,3,input_shape = (None,None,3),activation=\"relu\"))\n",
    "model.add(MaxPooling2D())\n",
    "model.add(Convolution2D(10,3,3,activation=\"relu\"))\n",
    "model.add(MaxPooling2D())\n",
    "model.add(Convolution2D(16,3,3,activation=\"relu\"))\n",
    "model.add(MaxPooling2D())\n",
    "model.add(Convolution2D(32,3,3,activation=\"relu\"))\n",
    "model.add(MaxPooling2D())\n",
    "model.add(Convolution2D(64,3,3,activation=\"relu\"))\n",
    "model.add(MaxPooling2D())\n",
    "\n",
    "model.add(Convolution2D(64,3,3,activation=\"relu\"))\n",
    "model.add(UpSampling2D())\n",
    "model.add(Convolution2D(64,3,3,activation=\"relu\"))\n",
    "model.add(UpSampling2D())\n",
    "model.add(Convolution2D(64,3,3,activation=\"relu\"))\n",
    "model.add(UpSampling2D())\n",
    "model.add(Convolution2D(64,3,3,activation=\"relu\"))\n",
    "model.add(UpSampling2D())\n",
    "model.add(Convolution2D(64,3,3,activation=\"relu\"))\n",
    "model.add(UpSampling2D())\n",
    "model.add(Convolution2D(1,3,3,activation=\"relu\"))\n",
    "\n",
    "model.compile('adam', 'categorical_crossentropy', ['accuracy'])\n",
    "X_normalized = np.array(X_train / 255.0 - 0.5 )\n",
    "\n",
    "from sklearn.preprocessing import LabelBinarizer\n",
    "label_binarizer = LabelBinarizer()\n",
    "y_one_hot = label_binarizer.fit_transform(y_train)\n",
    "print(y_one_hot.shape)\n",
    "model.compile('adam', 'categorical_crossentropy', ['accuracy'])\n",
    "history = model.fit(X_normalized, y_one_hot, nb_epoch=1, validation_split=0.2)"
   ]
  },
  {
   "cell_type": "code",
   "execution_count": 4,
   "metadata": {
    "collapsed": true,
    "deletable": true,
    "editable": true
   },
   "outputs": [],
   "source": [
    "def find_cars(img, ystart, ystop, xstart, xstop, scale, model, pix_per_cell, cell_per_block):\n",
    "    boxes = []\n",
    "    draw_img = np.copy(img)\n",
    "    \n",
    "    img_tosearch = img[ystart:ystop,xstart:xstop,:]\n",
    "    ctrans_tosearch = cv2.cvtColor(img_tosearch, cv2.COLOR_BGR2GRAY)\n",
    "    if scale != 1:\n",
    "        imshape = ctrans_tosearch.shape\n",
    "        ctrans_tosearch = cv2.resize(ctrans_tosearch, (np.int(imshape[1]/scale), np.int(imshape[0]/scale)))\n",
    "        \n",
    "\n",
    "\n",
    "    # Define blocks and steps as above\n",
    "    nxblocks = (ctrans_tosearch.shape[1] // pix_per_cell) - cell_per_block + 1\n",
    "    nyblocks = (ctrans_tosearch.shape[0] // pix_per_cell) - cell_per_block + 1 \n",
    "    \n",
    "    # 64 was the orginal sampling rate, with 8 cells and 8 pix per cell\n",
    "    window = 64\n",
    "    nblocks_per_window = (window // pix_per_cell) - cell_per_block + 1\n",
    "    cells_per_step = 2  # Instead of overlap, define how many cells to step\n",
    "    nxsteps = (nxblocks - nblocks_per_window) // cells_per_step\n",
    "    nysteps = (nyblocks - nblocks_per_window) // cells_per_step\n",
    "    \n",
    "    \n",
    "    for xb in range(nxsteps):\n",
    "        for yb in range(nysteps):\n",
    "            ypos = yb*cells_per_step\n",
    "            xpos = xb*cells_per_step\n",
    "            # Extract HOG for this patch\n",
    "            xleft = xpos*pix_per_cell\n",
    "            ytop = ypos*pix_per_cell\n",
    "\n",
    "            # Extract the image patch\n",
    "            subimg = cv2.resize(ctrans_tosearch[ytop:ytop+window, xleft:xleft+window], (64,64))\n",
    "            subimg = subimg[np.newaxis,:, :, np.newaxis]    \n",
    "            test_prediction = model.predict(subimg/255-0.5)\n",
    "            #print(test_prediction)\n",
    "            if test_prediction[0][0] >=0.5:\n",
    "                xbox_left = np.int(xleft*scale)+xstart\n",
    "                ytop_draw = np.int(ytop*scale)\n",
    "                win_draw = np.int(window*scale)\n",
    "                top_left_draw = (int(xbox_left), int(ytop_draw+ystart))\n",
    "                bot_right_draw = (int(xbox_left+win_draw),int(ytop_draw+win_draw+ystart))\n",
    "                boxes.append((top_left_draw, bot_right_draw))\n",
    "    return boxes"
   ]
  },
  {
   "cell_type": "code",
   "execution_count": 5,
   "metadata": {
    "collapsed": true,
    "deletable": true,
    "editable": true
   },
   "outputs": [],
   "source": [
    "from scipy.ndimage.measurements import label\n",
    "def add_heat(heatmap, bbox_list):\n",
    "    # Iterate through list of bboxes\n",
    "    for box in bbox_list:\n",
    "        # Add += 1 for all pixels inside each bbox\n",
    "        # Assuming each \"box\" takes the form ((x1, y1), (x2, y2))\n",
    "        heatmap[box[0][1]:box[1][1], box[0][0]:box[1][0]] += 1\n",
    "        \n",
    "    # Return updated heatmap\n",
    "    return heatmap\n",
    "\n",
    "def apply_threshold(heatmap, threshold):\n",
    "    # Zero out pixels below the threshold\n",
    "    heatmap[heatmap <= threshold] = 0\n",
    "    #heatmap[heatmap > threshold] = 1\n",
    "    #preheatmap = heatmap\n",
    "    # Return thresholded map\n",
    "    return heatmap\n",
    "\n",
    "\n",
    "\n",
    "\n",
    "import matplotlib.image as mpimg\n",
    "import matplotlib.pyplot as plt\n",
    "import numpy as np\n",
    "import cv2\n",
    "\n",
    "def draw_labeled_bboxes(img, labels):\n",
    "    # Iterate through all detected cars\n",
    "    for car_number in range(1, labels[1]+1):\n",
    "        # Find pixels with each car_number label value\n",
    "        nonzero = (labels[0] == car_number).nonzero()\n",
    "        # Identify x and y values of those pixels\n",
    "        nonzeroy = np.array(nonzero[0])\n",
    "        nonzerox = np.array(nonzero[1])\n",
    "        # Define a bounding box based on min/max x and y\n",
    "        bbox = ((np.min(nonzerox), np.min(nonzeroy)), (np.max(nonzerox), np.max(nonzeroy)))\n",
    "        # Draw the box on the image\n",
    "        cv2.rectangle(img, bbox[0], bbox[1], (0,0,255), 6)\n",
    "    # Return the image\n",
    "    return img"
   ]
  },
  {
   "cell_type": "code",
   "execution_count": 6,
   "metadata": {
    "collapsed": true,
    "deletable": true,
    "editable": true
   },
   "outputs": [],
   "source": [
    "def pipeline(img):\n",
    "   \n",
    "    bboxes = []\n",
    "    bboxes = find_cars(img, 400, 450, 700, 950, 1.5,model, 8, 2)\n",
    "    bboxes += find_cars(img, 400, 500, 700, 1140, 1.7, model, 8, 2)\n",
    "    bboxes += find_cars(img, 400, 650, 750,1140, 2.0, model, 8, 2)\n",
    "    bboxes += find_cars(img, 400, 650, 800, 1280, 2.5, model, 8, 2)\n",
    "    \n",
    "    \n",
    "    heatmap = np.zeros_like(img)\n",
    "    heatmap = add_heat(heatmap, bboxes)\n",
    "    heatmap = apply_threshold(heatmap, 2)\n",
    "    labels = label(heatmap)\n",
    "\n",
    "    \n",
    "    draw_img = draw_labeled_bboxes(np.copy(img), labels)\n",
    "    return draw_img"
   ]
  },
  {
   "cell_type": "code",
   "execution_count": 7,
   "metadata": {
    "collapsed": false,
    "deletable": true,
    "editable": true
   },
   "outputs": [
    {
     "ename": "ValueError",
     "evalue": "too many values to unpack (expected 2)",
     "output_type": "error",
     "traceback": [
      "\u001b[1;31m---------------------------------------------------------------------------\u001b[0m",
      "\u001b[1;31mValueError\u001b[0m                                Traceback (most recent call last)",
      "\u001b[1;32m<ipython-input-7-1920aae04913>\u001b[0m in \u001b[0;36m<module>\u001b[1;34m()\u001b[0m\n\u001b[0;32m      1\u001b[0m \u001b[0mtest_img1\u001b[0m \u001b[1;33m=\u001b[0m \u001b[0mcv2\u001b[0m\u001b[1;33m.\u001b[0m\u001b[0mimread\u001b[0m\u001b[1;33m(\u001b[0m\u001b[1;34m\"test_images/test1.jpg\"\u001b[0m\u001b[1;33m)\u001b[0m\u001b[1;33m\u001b[0m\u001b[0m\n\u001b[1;32m----> 2\u001b[1;33m \u001b[0mresult1\u001b[0m\u001b[1;33m,\u001b[0m\u001b[0mheatmap1\u001b[0m \u001b[1;33m=\u001b[0m \u001b[0mpipeline\u001b[0m\u001b[1;33m(\u001b[0m\u001b[0mtest_img1\u001b[0m\u001b[1;33m)\u001b[0m\u001b[1;33m\u001b[0m\u001b[0m\n\u001b[0m\u001b[0;32m      3\u001b[0m \u001b[0mtest_img2\u001b[0m \u001b[1;33m=\u001b[0m \u001b[0mcv2\u001b[0m\u001b[1;33m.\u001b[0m\u001b[0mimread\u001b[0m\u001b[1;33m(\u001b[0m\u001b[1;34m\"test_images/test2.jpg\"\u001b[0m\u001b[1;33m)\u001b[0m\u001b[1;33m\u001b[0m\u001b[0m\n\u001b[0;32m      4\u001b[0m \u001b[0mresult2\u001b[0m\u001b[1;33m,\u001b[0m\u001b[0mheatmap2\u001b[0m \u001b[1;33m=\u001b[0m \u001b[0mpipeline\u001b[0m\u001b[1;33m(\u001b[0m\u001b[0mtest_img2\u001b[0m\u001b[1;33m)\u001b[0m\u001b[1;33m\u001b[0m\u001b[0m\n\u001b[0;32m      5\u001b[0m \u001b[0mtest_img3\u001b[0m \u001b[1;33m=\u001b[0m \u001b[0mcv2\u001b[0m\u001b[1;33m.\u001b[0m\u001b[0mimread\u001b[0m\u001b[1;33m(\u001b[0m\u001b[1;34m\"test_images/test3.jpg\"\u001b[0m\u001b[1;33m)\u001b[0m\u001b[1;33m\u001b[0m\u001b[0m\n",
      "\u001b[1;31mValueError\u001b[0m: too many values to unpack (expected 2)"
     ]
    }
   ],
   "source": [
    "test_img1 = cv2.imread(\"test_images/test1.jpg\")\n",
    "result1,heatmap1 = pipeline(test_img1)\n",
    "test_img2 = cv2.imread(\"test_images/test2.jpg\")\n",
    "result2,heatmap2 = pipeline(test_img2)\n",
    "test_img3 = cv2.imread(\"test_images/test3.jpg\")\n",
    "result3,heatmap3 = pipeline(test_img3)\n",
    "test_img4 = cv2.imread(\"test_images/test4.jpg\")\n",
    "result4,heatmap4 = pipeline(test_img4)\n",
    "test_img5 = cv2.imread(\"test_images/test5.jpg\")\n",
    "result5,heatmap5 = pipeline(test_img5)\n",
    "test_img6 = cv2.imread(\"test_images/test6.jpg\")\n",
    "result6,heatmap6 = pipeline(test_img6)\n",
    "\n",
    "plt.figure(1)\n",
    "plt.subplot(211)\n",
    "plt.imshow(result1)\n",
    "plt.subplot(212)\n",
    "plt.imshow(heatmap1)\n",
    "\n",
    "plt.figure(2)\n",
    "plt.subplot(211)\n",
    "plt.imshow(result2)\n",
    "plt.subplot(212)\n",
    "plt.imshow(heatmap2)\n",
    "\n",
    "plt.figure(3)\n",
    "plt.subplot(211)\n",
    "plt.imshow(result3)\n",
    "plt.subplot(212)\n",
    "plt.imshow(heatmap3)\n",
    "\n",
    "plt.figure(4)\n",
    "plt.subplot(211)\n",
    "plt.imshow(result4)\n",
    "plt.subplot(212)\n",
    "plt.imshow(heatmap4)\n",
    "\n",
    "plt.figure(5)\n",
    "plt.subplot(211)\n",
    "plt.imshow(result5)\n",
    "plt.subplot(212)\n",
    "plt.imshow(heatmap5)\n",
    "\n",
    "plt.figure(6)\n",
    "plt.subplot(211)\n",
    "plt.imshow(result6)\n",
    "plt.subplot(212)\n",
    "plt.imshow(heatmap6)"
   ]
  },
  {
   "cell_type": "code",
   "execution_count": 8,
   "metadata": {
    "collapsed": false,
    "deletable": true,
    "editable": true
   },
   "outputs": [
    {
     "name": "stdout",
     "output_type": "stream",
     "text": [
      "[MoviePy] >>>> Building video test_result.mp4\n",
      "[MoviePy] Writing video test_result.mp4\n"
     ]
    },
    {
     "name": "stderr",
     "output_type": "stream",
     "text": [
      " 97%|████████████████████████████████████████▉ | 38/39 [00:07<00:00,  5.26it/s]\n"
     ]
    },
    {
     "name": "stdout",
     "output_type": "stream",
     "text": [
      "[MoviePy] Done.\n",
      "[MoviePy] >>>> Video ready: test_result.mp4 \n",
      "\n",
      "Wall time: 8.17 s\n"
     ]
    }
   ],
   "source": [
    "from moviepy.editor import VideoFileClip\n",
    "from IPython.display import HTML\n",
    "\n",
    "white_output = 'test_result.mp4'\n",
    "clip1 = VideoFileClip(\"test_video.mp4\")\n",
    "white_clip = clip1.fl_image(pipeline) #NOTE: this function expects color images!!\n",
    "%time white_clip.write_videofile(white_output, audio=False)"
   ]
  },
  {
   "cell_type": "code",
   "execution_count": 9,
   "metadata": {
    "collapsed": false,
    "deletable": true,
    "editable": true
   },
   "outputs": [
    {
     "name": "stdout",
     "output_type": "stream",
     "text": [
      "[MoviePy] >>>> Building video white.mp4\n",
      "[MoviePy] Writing video white.mp4\n"
     ]
    },
    {
     "name": "stderr",
     "output_type": "stream",
     "text": [
      "100%|█████████████████████████████████████▉| 1260/1261 [03:48<00:00,  5.70it/s]\n"
     ]
    },
    {
     "name": "stdout",
     "output_type": "stream",
     "text": [
      "[MoviePy] Done.\n",
      "[MoviePy] >>>> Video ready: white.mp4 \n",
      "\n",
      "Wall time: 3min 48s\n"
     ]
    }
   ],
   "source": [
    "from moviepy.editor import VideoFileClip\n",
    "from IPython.display import HTML\n",
    "preheatmap = np.zeros_like(cv2.imread(\"test_images/test1.jpg\"))\n",
    "white_output = 'white.mp4'\n",
    "clip1 = VideoFileClip(\"project_video.mp4\")\n",
    "white_clip = clip1.fl_image(pipeline) #NOTE: this function expects color images!!\n",
    "%time white_clip.write_videofile(white_output, audio=False)"
   ]
  },
  {
   "cell_type": "code",
   "execution_count": null,
   "metadata": {
    "collapsed": true,
    "deletable": true,
    "editable": true
   },
   "outputs": [],
   "source": []
  }
 ],
 "metadata": {
  "kernelspec": {
   "display_name": "Python 3",
   "language": "python",
   "name": "python3"
  },
  "language_info": {
   "codemirror_mode": {
    "name": "ipython",
    "version": 3
   },
   "file_extension": ".py",
   "mimetype": "text/x-python",
   "name": "python",
   "nbconvert_exporter": "python",
   "pygments_lexer": "ipython3",
   "version": "3.5.2"
  },
  "widgets": {
   "state": {},
   "version": "1.1.2"
  }
 },
 "nbformat": 4,
 "nbformat_minor": 2
}
